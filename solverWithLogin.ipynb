{
 "cells": [
  {
   "cell_type": "code",
   "execution_count": 625,
   "metadata": {
    "collapsed": false
   },
   "outputs": [
    {
     "name": "stdout",
     "output_type": "stream",
     "text": [
      "Logging in to the site.\n",
      "\n"
     ]
    }
   ],
   "source": [
    "import time\n",
    "import datetime\n",
    "import requests\n",
    "from bs4 import BeautifulSoup\n",
    "import smtplib\n",
    "from email.mime.text import MIMEText\n",
    "from time import gmtime, strftime\n",
    "import csv\n",
    "import re\n",
    "import numpy as np\n",
    "\n",
    "\n",
    "username = 'nethnethbb'\n",
    "password = 'JKenneth273309'\n",
    "login_url = 'http://www.neopets.com/login.phtml'\n",
    "with requests.Session() as s:\n",
    "    s.get(login_url)\n",
    "    payload = {'destination': '', 'username': username, 'password': password}\n",
    "    print('Logging in to the site.')\n",
    "    r = s.post(login_url, data=payload)\n",
    "    r = s.get('http://www.neopets.com/medieval/shapeshifter.phtml')\n",
    "    soup = BeautifulSoup(r.content, 'html.parser')\n",
    "\n",
    "activeShape = soup.find( height = '50')\n",
    "nextShape = activeShape.next_sibling.table\n",
    "activeShape = activeShape.table\n",
    "\n",
    "Java = soup.find(language=\"JavaScript1.2\")\n",
    "r = Java.get_text().find('gX = ') \n",
    "s = Java.get_text().find('gY = ') \n",
    "print \n",
    "gX = int(Java.get_text()[r + 5])\n",
    "gY = int(Java.get_text()[s + 5])\n",
    "\n",
    "matrix = np.zeros(gX*gY).reshape(gY,gX)\n",
    "for i in range(gY):\n",
    "    for j in range(gX):\n",
    "        loc = Java.get_text().find('imgLocStr['+str(j)+']['+str(i) + ']')\n",
    "        if Java.get_text()[loc+19:loc+22].encode('ascii','ignore') == \"swo\":\n",
    "            matrix[i,j] = 1\n",
    "\n",
    "\n",
    "\n"
   ]
  },
  {
   "cell_type": "code",
   "execution_count": 626,
   "metadata": {
    "collapsed": false
   },
   "outputs": [],
   "source": [
    "GivenShape = []\n",
    "for k in range(len(nextShape.find_all(cellspacing = \"0\")) + 1):\n",
    "    if k == 0:\n",
    "        q = activeShape\n",
    "    elif k != 0:\n",
    "        q = nextShape.find_all(cellspacing = \"0\")[k - 1]\n",
    "    ii = len(q.find_all('tr'))\n",
    "    jj = (len(q.find_all('td')) )/ii\n",
    "    a = np.zeros(ii*jj).reshape(ii,jj)\n",
    "    for i in range(ii):\n",
    "        for j in range(jj):\n",
    "            a[i][j] = len(q.find_all('td')[jj*i + j] )\n",
    "    GivenShape.append(a)\n",
    "\n",
    "array = []\n",
    "for x in GivenShape:\n",
    "    b = []\n",
    "    for j in range(gX - x.shape[1] + 1):\n",
    "        for i in range(gY - x.shape[0] + 1):\n",
    "            h = np.zeros(gX*gY).reshape((gY,gX))\n",
    "            for ii in range(x.shape[0]):\n",
    "                for jj in range(x.shape[1]):\n",
    "                    h[i+ii][j+jj] = x[ii][jj] \n",
    "            b.append(h)\n",
    "    array.append(b)"
   ]
  },
  {
   "cell_type": "code",
   "execution_count": 633,
   "metadata": {
    "collapsed": false
   },
   "outputs": [
    {
     "data": {
      "text/plain": [
       "[array([[ 1.,  0.,  0.],\n",
       "        [ 0.,  0.,  0.],\n",
       "        [ 0.,  0.,  0.],\n",
       "        [ 0.,  0.,  0.]]), array([[ 0.,  0.,  0.],\n",
       "        [ 1.,  0.,  0.],\n",
       "        [ 0.,  0.,  0.],\n",
       "        [ 0.,  0.,  0.]]), array([[ 0.,  0.,  0.],\n",
       "        [ 0.,  0.,  0.],\n",
       "        [ 1.,  0.,  0.],\n",
       "        [ 0.,  0.,  0.]]), array([[ 0.,  0.,  0.],\n",
       "        [ 0.,  0.,  0.],\n",
       "        [ 0.,  0.,  0.],\n",
       "        [ 1.,  0.,  0.]]), array([[ 0.,  1.,  0.],\n",
       "        [ 0.,  0.,  0.],\n",
       "        [ 0.,  0.,  0.],\n",
       "        [ 0.,  0.,  0.]]), array([[ 0.,  0.,  0.],\n",
       "        [ 0.,  1.,  0.],\n",
       "        [ 0.,  0.,  0.],\n",
       "        [ 0.,  0.,  0.]]), array([[ 0.,  0.,  0.],\n",
       "        [ 0.,  0.,  0.],\n",
       "        [ 0.,  1.,  0.],\n",
       "        [ 0.,  0.,  0.]]), array([[ 0.,  0.,  0.],\n",
       "        [ 0.,  0.,  0.],\n",
       "        [ 0.,  0.,  0.],\n",
       "        [ 0.,  1.,  0.]]), array([[ 0.,  0.,  1.],\n",
       "        [ 0.,  0.,  0.],\n",
       "        [ 0.,  0.,  0.],\n",
       "        [ 0.,  0.,  0.]]), array([[ 0.,  0.,  0.],\n",
       "        [ 0.,  0.,  1.],\n",
       "        [ 0.,  0.,  0.],\n",
       "        [ 0.,  0.,  0.]]), array([[ 0.,  0.,  0.],\n",
       "        [ 0.,  0.,  0.],\n",
       "        [ 0.,  0.,  1.],\n",
       "        [ 0.,  0.,  0.]]), array([[ 0.,  0.,  0.],\n",
       "        [ 0.,  0.,  0.],\n",
       "        [ 0.,  0.,  0.],\n",
       "        [ 0.,  0.,  1.]])]"
      ]
     },
     "execution_count": 633,
     "metadata": {},
     "output_type": "execute_result"
    }
   ],
   "source": [
    "array[1]"
   ]
  },
  {
   "cell_type": "code",
   "execution_count": 627,
   "metadata": {
    "collapsed": false
   },
   "outputs": [],
   "source": [
    "def solve(matrix, array, entry, draftSol ):\n",
    "    if entry <= len(draftSol) - 1:\n",
    "        global NumberOfSolution\n",
    "        global solution \n",
    "        currentShapeFamily = array[entry]\n",
    "        for i in range(len(currentShapeFamily)):\n",
    "            if NumberOfSolution == 0:\n",
    "                b = entry\n",
    "                draftSol[entry] = i\n",
    "                newShape = (matrix + currentShapeFamily[i])\n",
    "                if NumberOfSolution == 0:\n",
    "                    if ((newShape%2 == np.ones(gX*gY).reshape(gY,gX)).all()) & ( entry == len(draftSol)-1):\n",
    "                        print newShape\n",
    "                        NumberOfSolution = NumberOfSolution +1 \n",
    "                        print \"done\"\n",
    "                        solution =  draftSol\n",
    "\n",
    "                    else:    \n",
    "                        b = b + 1\n",
    "                        solve(newShape, array, b , draftSol)\n",
    "                        \n",
    "                       "
   ]
  },
  {
   "cell_type": "code",
   "execution_count": 628,
   "metadata": {
    "collapsed": false
   },
   "outputs": [],
   "source": [
    "def summary(matrix, array):\n",
    "    global NumberOfSolution\n",
    "    global solution \n",
    "    NumberOfSolution = 0 \n",
    "    entry = 0\n",
    "    draftSol = -1*np.ones(len(array))\n",
    "    solve(matrix, array, entry, draftSol ) \n",
    "    A = matrix \n",
    "    if solution is None:\n",
    "        print 'fail'\n",
    "    else:\n",
    "        solution = solution.astype(int)\n",
    "        print solution\n",
    "        print \"%%%%%%%%%%\"\n",
    "        print \"operations: \"\n",
    "        for i in range(len(array)):\n",
    "            print i+1\n",
    "            print array[i][solution[i]] \n",
    "        print \"%%%%%%%%%%\"    \n",
    "        print \"step to result: \"\n",
    "        print A%2\n",
    "        for i in range(len(array)):\n",
    "            print i + 1\n",
    "            A = A + array[i][solution[i]]\n",
    "            print A%2"
   ]
  },
  {
   "cell_type": "code",
   "execution_count": 629,
   "metadata": {
    "collapsed": false
   },
   "outputs": [
    {
     "name": "stdout",
     "output_type": "stream",
     "text": [
      "[[ 7.  7.  5.]\n",
      " [ 3.  5.  5.]\n",
      " [ 3.  5.  3.]\n",
      " [ 1.  1.  1.]]\n",
      "done\n",
      "[0 0 0 0 0 2 0 0 0 7 2]\n",
      "%%%%%%%%%%\n",
      "operations: \n",
      "1\n",
      "[[ 1.  1.  0.]\n",
      " [ 0.  0.  0.]\n",
      " [ 0.  0.  0.]\n",
      " [ 0.  0.  0.]]\n",
      "2\n",
      "[[ 1.  0.  0.]\n",
      " [ 0.  0.  0.]\n",
      " [ 0.  0.  0.]\n",
      " [ 0.  0.  0.]]\n",
      "3\n",
      "[[ 1.  0.  0.]\n",
      " [ 1.  1.  0.]\n",
      " [ 0.  1.  0.]\n",
      " [ 0.  0.  0.]]\n",
      "4\n",
      "[[ 1.  1.  0.]\n",
      " [ 0.  1.  1.]\n",
      " [ 0.  0.  0.]\n",
      " [ 0.  0.  0.]]\n",
      "5\n",
      "[[ 1.  1.  1.]\n",
      " [ 1.  0.  1.]\n",
      " [ 1.  1.  1.]\n",
      " [ 0.  0.  0.]]\n",
      "6\n",
      "[[ 0.  0.  0.]\n",
      " [ 0.  0.  0.]\n",
      " [ 1.  1.  0.]\n",
      " [ 0.  0.  0.]]\n",
      "7\n",
      "[[ 0.  1.  1.]\n",
      " [ 1.  1.  1.]\n",
      " [ 0.  0.  0.]\n",
      " [ 0.  0.  0.]]\n",
      "8\n",
      "[[ 1.  1.  1.]\n",
      " [ 0.  0.  0.]\n",
      " [ 0.  0.  0.]\n",
      " [ 0.  0.  0.]]\n",
      "9\n",
      "[[ 1.  1.  0.]\n",
      " [ 0.  1.  1.]\n",
      " [ 0.  0.  0.]\n",
      " [ 0.  0.  0.]]\n",
      "10\n",
      "[[ 0.  0.  0.]\n",
      " [ 0.  0.  0.]\n",
      " [ 0.  0.  0.]\n",
      " [ 0.  1.  0.]]\n",
      "11\n",
      "[[ 0.  1.  1.]\n",
      " [ 0.  1.  1.]\n",
      " [ 0.  1.  1.]\n",
      " [ 0.  0.  0.]]\n",
      "%%%%%%%%%%\n",
      "step to result: \n",
      "[[ 0.  0.  1.]\n",
      " [ 0.  0.  0.]\n",
      " [ 1.  1.  1.]\n",
      " [ 1.  0.  1.]]\n",
      "1\n",
      "[[ 1.  1.  1.]\n",
      " [ 0.  0.  0.]\n",
      " [ 1.  1.  1.]\n",
      " [ 1.  0.  1.]]\n",
      "2\n",
      "[[ 0.  1.  1.]\n",
      " [ 0.  0.  0.]\n",
      " [ 1.  1.  1.]\n",
      " [ 1.  0.  1.]]\n",
      "3\n",
      "[[ 1.  1.  1.]\n",
      " [ 1.  1.  0.]\n",
      " [ 1.  0.  1.]\n",
      " [ 1.  0.  1.]]\n",
      "4\n",
      "[[ 0.  0.  1.]\n",
      " [ 1.  0.  1.]\n",
      " [ 1.  0.  1.]\n",
      " [ 1.  0.  1.]]\n",
      "5\n",
      "[[ 1.  1.  0.]\n",
      " [ 0.  0.  0.]\n",
      " [ 0.  1.  0.]\n",
      " [ 1.  0.  1.]]\n",
      "6\n",
      "[[ 1.  1.  0.]\n",
      " [ 0.  0.  0.]\n",
      " [ 1.  0.  0.]\n",
      " [ 1.  0.  1.]]\n",
      "7\n",
      "[[ 1.  0.  1.]\n",
      " [ 1.  1.  1.]\n",
      " [ 1.  0.  0.]\n",
      " [ 1.  0.  1.]]\n",
      "8\n",
      "[[ 0.  1.  0.]\n",
      " [ 1.  1.  1.]\n",
      " [ 1.  0.  0.]\n",
      " [ 1.  0.  1.]]\n",
      "9\n",
      "[[ 1.  0.  0.]\n",
      " [ 1.  0.  0.]\n",
      " [ 1.  0.  0.]\n",
      " [ 1.  0.  1.]]\n",
      "10\n",
      "[[ 1.  0.  0.]\n",
      " [ 1.  0.  0.]\n",
      " [ 1.  0.  0.]\n",
      " [ 1.  1.  1.]]\n",
      "11\n",
      "[[ 1.  1.  1.]\n",
      " [ 1.  1.  1.]\n",
      " [ 1.  1.  1.]\n",
      " [ 1.  1.  1.]]\n"
     ]
    }
   ],
   "source": [
    "summary(matrix, array)"
   ]
  },
  {
   "cell_type": "code",
   "execution_count": 488,
   "metadata": {
    "collapsed": false
   },
   "outputs": [
    {
     "data": {
      "text/plain": [
       "array([[ 0.,  1.,  0.],\n",
       "       [ 0.,  0.,  1.],\n",
       "       [ 0.,  0.,  1.]])"
      ]
     },
     "execution_count": 488,
     "metadata": {},
     "output_type": "execute_result"
    }
   ],
   "source": [
    "matrix = np.zeros(gX*gY).reshape(gY,gX)\n",
    "for i in range(gY):\n",
    "    for j in range(gX):\n",
    "        loc = Java.get_text().find('imgLocStr['+str(j)+']['+str(i) + ']')\n",
    "        if Java.get_text()[loc+19:loc+22].encode('ascii','ignore') == \"swo\":\n",
    "            matrix[i,j] = 1\n",
    "matrix\n",
    "        "
   ]
  },
  {
   "cell_type": "code",
   "execution_count": 555,
   "metadata": {
    "collapsed": false
   },
   "outputs": [
    {
     "data": {
      "text/plain": [
       "2"
      ]
     },
     "execution_count": 555,
     "metadata": {},
     "output_type": "execute_result"
    }
   ],
   "source": [
    "int(Java.get_text()[pp.get_text().find('gY') + 6])"
   ]
  },
  {
   "cell_type": "code",
   "execution_count": 554,
   "metadata": {
    "collapsed": false
   },
   "outputs": [
    {
     "data": {
      "text/plain": [
       "u'gX = 3'"
      ]
     },
     "execution_count": 554,
     "metadata": {},
     "output_type": "execute_result"
    }
   ],
   "source": [
    "pp.get_text()[396:396+6]"
   ]
  },
  {
   "cell_type": "code",
   "execution_count": 560,
   "metadata": {
    "collapsed": false
   },
   "outputs": [
    {
     "data": {
      "text/plain": [
       "u'gY = 3'"
      ]
     },
     "execution_count": 560,
     "metadata": {},
     "output_type": "execute_result"
    }
   ],
   "source": [
    "pp.get_text()[406:406+6]"
   ]
  },
  {
   "cell_type": "code",
   "execution_count": 197,
   "metadata": {
    "collapsed": false
   },
   "outputs": [
    {
     "data": {
      "text/plain": [
       "<table border=\"0\" cellpadding=\"0\" cellspacing=\"0\"><tr><td height=\"10\" width=\"10\"></td><td><img border=\"0\" height=\"10\" src=\"http://images.neopets.com/medieval/shapeshifter/square.gif\" width=\"10\"/></td></tr><tr><td><img border=\"0\" height=\"10\" src=\"http://images.neopets.com/medieval/shapeshifter/square.gif\" width=\"10\"/></td><td><img border=\"0\" height=\"10\" src=\"http://images.neopets.com/medieval/shapeshifter/square.gif\" width=\"10\"/></td></tr></table>"
      ]
     },
     "execution_count": 197,
     "metadata": {},
     "output_type": "execute_result"
    }
   ],
   "source": [
    "# 1 active shape\n",
    "# 10 next shape,m\n",
    "nextShape.find_all(cellspacing = \"0\")[0]"
   ]
  },
  {
   "cell_type": "code",
   "execution_count": 190,
   "metadata": {
    "collapsed": false
   },
   "outputs": [
    {
     "data": {
      "text/plain": [
       "4"
      ]
     },
     "execution_count": 190,
     "metadata": {},
     "output_type": "execute_result"
    }
   ],
   "source": [
    "len(p.find_all('td'))"
   ]
  },
  {
   "cell_type": "code",
   "execution_count": 191,
   "metadata": {
    "collapsed": false
   },
   "outputs": [
    {
     "data": {
      "text/plain": [
       "[<tr><td height=\"10\" width=\"10\"></td><td><img border=\"0\" height=\"10\" src=\"http://images.neopets.com/medieval/shapeshifter/square.gif\" width=\"10\"/></td></tr>,\n",
       " <tr><td><img border=\"0\" height=\"10\" src=\"http://images.neopets.com/medieval/shapeshifter/square.gif\" width=\"10\"/></td><td><img border=\"0\" height=\"10\" src=\"http://images.neopets.com/medieval/shapeshifter/square.gif\" width=\"10\"/></td></tr>]"
      ]
     },
     "execution_count": 191,
     "metadata": {},
     "output_type": "execute_result"
    }
   ],
   "source": [
    "ppp.find_all(cellspacing = \"0\")[0].find_all('tr')"
   ]
  },
  {
   "cell_type": "code",
   "execution_count": 155,
   "metadata": {
    "collapsed": false
   },
   "outputs": [
    {
     "name": "stdout",
     "output_type": "stream",
     "text": [
      "2\n",
      "1\n",
      "2\n",
      "2\n",
      "2\n",
      "3\n",
      "1\n",
      "2\n",
      "3\n",
      "2\n"
     ]
    }
   ],
   "source": []
  },
  {
   "cell_type": "code",
   "execution_count": 258,
   "metadata": {
    "collapsed": false
   },
   "outputs": [
    {
     "data": {
      "text/plain": [
       "array([[ 0.,  0.,  0.],\n",
       "       [ 0.,  1.,  0.],\n",
       "       [ 1.,  1.,  0.]])"
      ]
     },
     "execution_count": 258,
     "metadata": {},
     "output_type": "execute_result"
    }
   ],
   "source": [
    "aaa[0][1]"
   ]
  },
  {
   "cell_type": "code",
   "execution_count": 199,
   "metadata": {
    "collapsed": false
   },
   "outputs": [],
   "source": [
    "import numpy as np\n",
    "aa = []\n",
    "for k in range(len(nextShape.find_all(cellspacing = \"0\")) + 1):\n",
    "    if k == 0:\n",
    "        q = activeShape\n",
    "    elif k != 0:\n",
    "        q = nextShape.find_all(cellspacing = \"0\")[k - 1]\n",
    "    ii = len(q.find_all('tr'))\n",
    "    jj = (len(q.find_all('td')) )/ii\n",
    "    a = np.zeros(ii*jj).reshape(ii,jj)\n",
    "    for i in range(ii):\n",
    "        for j in range(jj):\n",
    "            a[i][j] = len(q.find_all('td')[jj*i + j] )\n",
    "    aa.append(a)\n",
    "        \n",
    "\n",
    "    "
   ]
  },
  {
   "cell_type": "code",
   "execution_count": 562,
   "metadata": {
    "collapsed": false
   },
   "outputs": [
    {
     "data": {
      "text/plain": [
       "396"
      ]
     },
     "execution_count": 562,
     "metadata": {},
     "output_type": "execute_result"
    }
   ],
   "source": [
    "pp.get_text().find('gX = ')"
   ]
  },
  {
   "cell_type": "code",
   "execution_count": 64,
   "metadata": {
    "collapsed": false
   },
   "outputs": [
    {
     "data": {
      "text/plain": [
       "u'3'"
      ]
     },
     "execution_count": 64,
     "metadata": {},
     "output_type": "execute_result"
    }
   ],
   "source": [
    "pp.get_text()[401]"
   ]
  },
  {
   "cell_type": "code",
   "execution_count": 65,
   "metadata": {
    "collapsed": false
   },
   "outputs": [
    {
     "data": {
      "text/plain": [
       "406"
      ]
     },
     "execution_count": 65,
     "metadata": {},
     "output_type": "execute_result"
    }
   ],
   "source": [
    "pp.get_text().find('gY')"
   ]
  },
  {
   "cell_type": "code",
   "execution_count": 67,
   "metadata": {
    "collapsed": false
   },
   "outputs": [
    {
     "data": {
      "text/plain": [
       "u'3'"
      ]
     },
     "execution_count": 67,
     "metadata": {},
     "output_type": "execute_result"
    }
   ],
   "source": [
    "pp.get_text()[411]"
   ]
  },
  {
   "cell_type": "code",
   "execution_count": 69,
   "metadata": {
    "collapsed": false
   },
   "outputs": [
    {
     "data": {
      "text/plain": [
       "u'3'"
      ]
     },
     "execution_count": 69,
     "metadata": {},
     "output_type": "execute_result"
    }
   ],
   "source": [
    "pp.get_text()[pp.get_text().find('gX') + 5]"
   ]
  },
  {
   "cell_type": "code",
   "execution_count": 569,
   "metadata": {
    "collapsed": false
   },
   "outputs": [
    {
     "data": {
      "text/plain": [
       "514"
      ]
     },
     "execution_count": 569,
     "metadata": {},
     "output_type": "execute_result"
    }
   ],
   "source": [
    "Java.get_text().find('gY = ')"
   ]
  },
  {
   "cell_type": "code",
   "execution_count": 575,
   "metadata": {
    "collapsed": false
   },
   "outputs": [
    {
     "data": {
      "text/plain": [
       "u'gY = 4'"
      ]
     },
     "execution_count": 575,
     "metadata": {},
     "output_type": "execute_result"
    }
   ],
   "source": [
    "r = 514\n",
    "Java.get_text()[r:r+6]"
   ]
  },
  {
   "cell_type": "code",
   "execution_count": 576,
   "metadata": {
    "collapsed": false
   },
   "outputs": [
    {
     "data": {
      "text/plain": [
       "u'4'"
      ]
     },
     "execution_count": 576,
     "metadata": {},
     "output_type": "execute_result"
    }
   ],
   "source": [
    "Java.get_text()[r+5]"
   ]
  },
  {
   "cell_type": "code",
   "execution_count": 587,
   "metadata": {
    "collapsed": false
   },
   "outputs": [
    {
     "data": {
      "text/plain": [
       "u'\\n\\n\\n<!--\\n\\nfunction mouseAction(oM,xX,yY){\\n\\n  imgLocStr = new Array(4)\\n  imgLocStr[0] = new Array(3)\\n  imgLocStr[1] = new Array(3)\\n  imgLocStr[2] = new Array(3)\\n  imgLocStr[3] = new Array(3)\\n  imgLocStr[0][0] = \"swo\"\\n  imgLocStr[1][0] = \"swo\"\\n  imgLocStr[2][0] = \"gob\"\\n  imgLocStr[0][1] = \"swo\"\\n  imgLocStr[1][1] = \"gob\"\\n  imgLocStr[2][1] = \"gob\"\\n  imgLocStr[0][2] = \"swo\"\\n  imgLocStr[1][2] = \"gob\"\\n  imgLocStr[2][2] = \"gob\"\\n  imgLocStr[0][3] = \"gob\"\\n  imgLocStr[1][3] = \"gob\"\\n  imgLocStr[2][3] = \"swo\"\\n\\n  gX = 3;\\n  gY = 4;\\n\\n  xX0 = xX+0;\\n  xX1 = xX+1;\\n  xX2 = xX+2;\\n\\n  yY0 = yY+0;\\n  yY1 = yY+1;\\n\\n  if (xX0 < gX && yY0 < gY){ eval(\"document.i\"+xX0+\"_\"+yY0+\".src = \\'http://images.neopets.com/medieval/shapeshifter/\"+imgLocStr[xX0][yY0]+\"_\"+oM+\".gif\\'\");}\\n  if (xX1 < gX && yY0 < gY){ eval(\"document.i\"+xX1+\"_\"+yY0+\".src = \\'http://images.neopets.com/medieval/shapeshifter/\"+imgLocStr[xX1][yY0]+\"_\"+oM+\".gif\\'\");}\\n  if (xX1 < gX && yY1 < gY){ eval(\"document.i\"+xX1+\"_\"+yY1+\".src = \\'http://images.neopets.com/medieval/shapeshifter/\"+imgLocStr[xX1][yY1]+\"_\"+oM+\".gif\\'\");}\\n  if (xX2 < gX && yY1 < gY){ eval(\"document.i\"+xX2+\"_\"+yY1+\".src = \\'http://images.neopets.com/medieval/shapeshifter/\"+imgLocStr[xX2][yY1]+\"_\"+oM+\".gif\\'\");}\\n\\n}\\n\\nfunction mouseon(xX,yY){\\n  mouseAction(1,xX,yY)\\n}\\n\\nfunction mouseoff(xX,yY){\\n  mouseAction(0,xX,yY)\\n}\\n\\n\\n-->\\n\\n'"
      ]
     },
     "execution_count": 587,
     "metadata": {},
     "output_type": "execute_result"
    }
   ],
   "source": [
    "Java.get_text()"
   ]
  },
  {
   "cell_type": "code",
   "execution_count": null,
   "metadata": {
    "collapsed": true
   },
   "outputs": [],
   "source": []
  }
 ],
 "metadata": {
  "kernelspec": {
   "display_name": "Python 2",
   "language": "python",
   "name": "python2"
  },
  "language_info": {
   "codemirror_mode": {
    "name": "ipython",
    "version": 2
   },
   "file_extension": ".py",
   "mimetype": "text/x-python",
   "name": "python",
   "nbconvert_exporter": "python",
   "pygments_lexer": "ipython2",
   "version": "2.7.12"
  }
 },
 "nbformat": 4,
 "nbformat_minor": 0
}
