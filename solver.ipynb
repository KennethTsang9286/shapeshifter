{
 "cells": [
  {
   "cell_type": "code",
   "execution_count": 185,
   "metadata": {
    "collapsed": true
   },
   "outputs": [],
   "source": [
    "import numpy as np\n",
    "gX = 3\n",
    "gY = 3"
   ]
  },
  {
   "cell_type": "code",
   "execution_count": 186,
   "metadata": {
    "collapsed": false
   },
   "outputs": [],
   "source": [
    "shape1 =  []\n",
    "for i in range(gX*gY):\n",
    "    a = np.zeros(gX*gY)\n",
    "    a[i] = 1\n",
    "    shape1.append(a.reshape((gX,gY))) \n",
    "\n",
    "    \n",
    "shape2 = []\n",
    "for i in range(gX*gY):\n",
    "    if (i+1)%gX != 0:\n",
    "        a = np.zeros(gX*gY)\n",
    "        a[i]=1\n",
    "        a[i+1] =1\n",
    "        shape2.append(a.reshape((gX,gY))) \n",
    "        \n",
    "shape3 = []\n",
    "for i in range(gX*gY):\n",
    "    if ((i+1)%gX != 0) & ((i+1)%gX != gX - 1):\n",
    "        a = np.zeros(gX*gY)\n",
    "        a[i]=1\n",
    "        a[i+1] =1\n",
    "        a[i+2] = 1\n",
    "        shape3.append(a.reshape((gX,gY))) \n",
    "    \n",
    "shape4 = []\n",
    "for j in range(gX - 2):\n",
    "    for i in range(gY - 1):\n",
    "        a = np.zeros(gX*gY).reshape((gX,gY))\n",
    "        for k in range(3):\n",
    "            a[i][j+k] = 1\n",
    "            a[i+1][j+k] = 1\n",
    "        shape4.append(a)\n",
    "        \n",
    "shape5 = []\n",
    "for j in range(gX - 2):\n",
    "    for i in range(gY - 1):\n",
    "        a = np.zeros(gX*gY).reshape((gX,gY))\n",
    "        a[i][j] = 1\n",
    "        a[i][j+1] = 1\n",
    "        a[i+1][j+1] = 1\n",
    "        a[i+1][j+2] = 1\n",
    "        shape5.append(a)      \n",
    "        \n",
    "shape6 = []\n",
    "for j in range(gX - 2):\n",
    "    for i in range(gY - 1):\n",
    "        a = np.zeros(gX*gY).reshape((gX,gY))\n",
    "        a[i][j+1] = 1\n",
    "        a[i][j+2] = 1\n",
    "        a[i+1][j] = 1\n",
    "        a[i+1][j+1] = 1\n",
    "        shape6.append(a)   \n",
    "    \n",
    "shape7 = []\n",
    "for j in range(gX - 2):\n",
    "    for i in range(gY - 1):\n",
    "        a = np.zeros(gX*gY).reshape((gX,gY))\n",
    "        a[i][j+1] = 1\n",
    "        a[i+1][j] = 1\n",
    "        a[i+1][j+1] = 1\n",
    "        a[i+1][j+2] = 1\n",
    "        shape7.append(a)    \n",
    "          \n",
    "shape8 = []\n",
    "for j in range(gX - 2):\n",
    "    for i in range(gY - 1):\n",
    "        a = np.zeros(gX*gY).reshape((gX,gY))\n",
    "        a[i][j+1] = 1\n",
    "        a[i][j+2] = 1\n",
    "        a[i+1][j] = 1\n",
    "        a[i+1][j+1] = 1\n",
    "        a[i+1][j+2] = 1\n",
    "        shape8.append(a)\n",
    "    \n",
    "shape9 = []\n",
    "for j in range(gX - 2):\n",
    "    for i in range(gY - 1):\n",
    "        a = np.zeros(gX*gY).reshape((gX,gY))\n",
    "        a[i][j] = 1\n",
    "        a[i][j+1] = 1\n",
    "        a[i+1][j] = 1\n",
    "        a[i+1][j+1] = 1\n",
    "        a[i+1][j+2] = 1\n",
    "        shape9.append(a)\n",
    "\n",
    "    \n",
    "shape41 = []\n",
    "for j in range(gX - 1):\n",
    "    for i in range(gY - 1):\n",
    "        a = np.zeros(gX*gY).reshape((gX,gY))\n",
    "        a[i][j] = 1\n",
    "        a[i][j+1] = 1\n",
    "        a[i+1][j] = 1\n",
    "        shape41.append(a)\n"
   ]
  },
  {
   "cell_type": "code",
   "execution_count": 187,
   "metadata": {
    "collapsed": true
   },
   "outputs": [],
   "source": [
    "# 1   11(2)  111(2)  111(2)     110(2)      011(2)      010(4)     011(4)    110(4)  110(4)\n",
    "#                    111        011         110         111        111       111     100 \n",
    "# 1   2      3       4          5           6           7          8         9       41\n",
    "\n"
   ]
  },
  {
   "cell_type": "code",
   "execution_count": 188,
   "metadata": {
    "collapsed": false
   },
   "outputs": [
    {
     "data": {
      "text/plain": [
       "[array([[ 1.,  1.,  0.],\n",
       "        [ 1.,  0.,  0.],\n",
       "        [ 0.,  0.,  0.]]), array([[ 0.,  0.,  0.],\n",
       "        [ 1.,  1.,  0.],\n",
       "        [ 1.,  0.,  0.]]), array([[ 0.,  1.,  1.],\n",
       "        [ 0.,  1.,  0.],\n",
       "        [ 0.,  0.,  0.]]), array([[ 0.,  0.,  0.],\n",
       "        [ 0.,  1.,  1.],\n",
       "        [ 0.,  1.,  0.]])]"
      ]
     },
     "execution_count": 188,
     "metadata": {},
     "output_type": "execute_result"
    }
   ],
   "source": [
    "shape41"
   ]
  },
  {
   "cell_type": "code",
   "execution_count": 189,
   "metadata": {
    "collapsed": false
   },
   "outputs": [],
   "source": [
    "#shape10 is empty\n",
    "#shape11 is shape1"
   ]
  },
  {
   "cell_type": "code",
   "execution_count": 190,
   "metadata": {
    "collapsed": false
   },
   "outputs": [],
   "source": [
    "shape12 = []\n",
    "for x in shape2:\n",
    "    shape12.append(np.array(zip(*x[::-1])))\n",
    "shape13 = []\n",
    "for x in shape3:\n",
    "    shape13.append(np.array(zip(*x[::-1])))\n",
    "shape14 = []\n",
    "for x in shape4:\n",
    "    shape14.append(np.array(zip(*x[::-1])))\n",
    "shape15 = []\n",
    "for x in shape5:\n",
    "    shape15.append(np.array(zip(*x[::-1])))\n",
    "shape16 = []\n",
    "for x in shape6:\n",
    "    shape16.append(np.array(zip(*x[::-1])))\n",
    "    \n",
    "shape17 = []\n",
    "for x in shape7:\n",
    "    shape17.append(np.array(zip(*x[::-1])))\n",
    "shape27 = []\n",
    "for x in shape17:\n",
    "    shape27.append(np.array(zip(*x[::-1])))\n",
    "shape37 = []\n",
    "for x in shape27:\n",
    "    shape37.append(np.array(zip(*x[::-1])))\n",
    "    \n",
    "shape18 = []\n",
    "for x in shape8:\n",
    "    shape18.append(np.array(zip(*x[::-1])))\n",
    "shape28 = []\n",
    "for x in shape18:\n",
    "    shape28.append(np.array(zip(*x[::-1])))\n",
    "shape38 = []\n",
    "for x in shape28:\n",
    "    shape38.append(np.array(zip(*x[::-1])))\n",
    "    \n",
    "shape19 = []\n",
    "for x in shape9:\n",
    "    shape19.append(np.array(zip(*x[::-1])))\n",
    "shape29 = []\n",
    "for x in shape19:\n",
    "    shape29.append(np.array(zip(*x[::-1])))\n",
    "shape39 = []\n",
    "for x in shape29:\n",
    "    shape39.append(np.array(zip(*x[::-1])))\n",
    "\n",
    "shape51 = []\n",
    "for x in shape41:\n",
    "    shape51.append(np.array(zip(*x[::-1])))\n",
    "shape61 = []\n",
    "for x in shape51:\n",
    "    shape61.append(np.array(zip(*x[::-1])))\n",
    "shape71 = []\n",
    "for x in shape61:\n",
    "    shape71.append(np.array(zip(*x[::-1])))"
   ]
  },
  {
   "cell_type": "code",
   "execution_count": 191,
   "metadata": {
    "collapsed": true
   },
   "outputs": [],
   "source": [
    "dict={}\n",
    "dict[1] = shape1\n",
    "dict[2] = shape2\n",
    "dict[3] = shape3\n",
    "dict[4] = shape4\n",
    "dict[5] = shape5\n",
    "dict[6] = shape6\n",
    "dict[7] = shape7\n",
    "dict[8] = shape8\n",
    "dict[9] = shape9\n",
    "dict[12] = shape12\n",
    "dict[13] = shape13\n",
    "dict[14] = shape14\n",
    "dict[15] = shape15\n",
    "dict[16] = shape16\n",
    "dict[17] = shape17\n",
    "dict[18] = shape18\n",
    "dict[19] = shape19\n",
    "dict[27] = shape27\n",
    "dict[28] = shape28\n",
    "dict[29] = shape29\n",
    "dict[37] = shape37\n",
    "dict[38] = shape38\n",
    "dict[39] = shape39\n",
    "dict[41] = shape41\n",
    "dict[51] = shape51\n",
    "dict[61] = shape61\n",
    "dict[71] = shape71"
   ]
  },
  {
   "cell_type": "code",
   "execution_count": 192,
   "metadata": {
    "collapsed": false
   },
   "outputs": [],
   "source": [
    "#try to solve\n",
    "def solve(matrix, array, b, l):\n",
    "    global hh\n",
    "    k =array\n",
    "    h = b+1\n",
    "    listt = l\n",
    "    if len(k) !=0:\n",
    "        a = k[0]\n",
    "        for j in range(len(dict[a])):\n",
    "            listt[h] = j\n",
    "            #print (listt)\n",
    "           \n",
    "            if ((((matrix + dict[a][j])%2).reshape(1,9) == np.ones(9)).all()) & (len(listt)-1 == h):\n",
    "                hh = hh +1 \n",
    "                print \"done\"\n",
    "                print listt\n",
    "                return listt\n",
    "                \n",
    "            \n",
    "            elif hh == 0:\n",
    "                solve(matrix + dict[a][j], k[1:], h , listt )\n",
    "                return listt\n",
    "            \n",
    "    \n"
   ]
  },
  {
   "cell_type": "code",
   "execution_count": 193,
   "metadata": {
    "collapsed": false
   },
   "outputs": [],
   "source": [
    "def summary(matrix, array):\n",
    "    global hh\n",
    "    hh = 0 \n",
    "    b = -1\n",
    "    l = -1*np.ones(len(array))\n",
    "    solution = solve(matrix, array, b, l)\n",
    "    if solution is None:\n",
    "        print 'fail'\n",
    "    else:\n",
    "        solution = solution.astype(int)\n",
    "        print \"%%%%%%%%%%\"\n",
    "        print \"operations: \"\n",
    "        for i in range(len(array)):\n",
    "            print dict[array[i]][solution[i]] \n",
    "        print \"%%%%%%%%%%\"    \n",
    "        print \"step to result: \"\n",
    "        print matrix%2\n",
    "        for i in range(len(array)):\n",
    "            matrix = matrix + dict[array[i]][solution[i]]\n",
    "            print matrix%2\n",
    " \n",
    "    "
   ]
  },
  {
   "cell_type": "code",
   "execution_count": 194,
   "metadata": {
    "collapsed": false
   },
   "outputs": [],
   "source": [
    "# 1   11(2)  111(2)  111(2)     110(2)      011(2)      010(4)     011(4)    110(4)  110(4)\n",
    "#                    111        011         110         111        111       111     100 \n",
    "# 1   2      3       4          5           6           7          8         9       41\n"
   ]
  },
  {
   "cell_type": "code",
   "execution_count": 195,
   "metadata": {
    "collapsed": false
   },
   "outputs": [],
   "source": [
    "#input initial\n",
    "matrix = np.array([0,1,0,0,0,1,0,0,1]).reshape((3,3))\n",
    "array = [61,61,3,12,12,12,37,3,41,17,41]"
   ]
  },
  {
   "cell_type": "code",
   "execution_count": 196,
   "metadata": {
    "collapsed": false
   },
   "outputs": [
    {
     "name": "stdout",
     "output_type": "stream",
     "text": [
      "[[ 0.  0.  0.]\n",
      " [ 0.  0.  1.]\n",
      " [ 0.  1.  1.]]\n",
      "[[ 0.  0.  0.]\n",
      " [ 0.  0.  1.]\n",
      " [ 0.  1.  1.]]\n",
      "[[ 1.  1.  1.]\n",
      " [ 0.  0.  0.]\n",
      " [ 0.  0.  0.]]\n",
      "[[ 0.  0.  1.]\n",
      " [ 0.  0.  1.]\n",
      " [ 0.  0.  0.]]\n",
      "[[ 0.  0.  1.]\n",
      " [ 0.  0.  1.]\n",
      " [ 0.  0.  0.]]\n",
      "[[ 0.  0.  1.]\n",
      " [ 0.  0.  1.]\n",
      " [ 0.  0.  0.]]\n",
      "[[ 0.  1.  0.]\n",
      " [ 1.  1.  0.]\n",
      " [ 0.  1.  0.]]\n",
      "[[ 1.  1.  1.]\n",
      " [ 0.  0.  0.]\n",
      " [ 0.  0.  0.]]\n",
      "[[ 1.  1.  0.]\n",
      " [ 1.  0.  0.]\n",
      " [ 0.  0.  0.]]\n",
      "[[ 0.  1.  0.]\n",
      " [ 0.  1.  1.]\n",
      " [ 0.  1.  0.]]\n",
      "[[ 1.  1.  0.]\n",
      " [ 1.  0.  0.]\n",
      " [ 0.  0.  0.]]\n"
     ]
    }
   ],
   "source": [
    "for x in array:\n",
    "    print dict[x][0]"
   ]
  },
  {
   "cell_type": "code",
   "execution_count": 197,
   "metadata": {
    "collapsed": false
   },
   "outputs": [
    {
     "name": "stdout",
     "output_type": "stream",
     "text": [
      "%%%%%%%%%%\n",
      "operations: \n",
      "[[ 0.  0.  0.]\n",
      " [ 0.  0.  1.]\n",
      " [ 0.  1.  1.]]\n",
      "[[ 0.  0.  0.]\n",
      " [ 0.  0.  1.]\n",
      " [ 0.  1.  1.]]\n",
      "[[ 1.  1.  1.]\n",
      " [ 0.  0.  0.]\n",
      " [ 0.  0.  0.]]\n",
      "[[ 0.  0.  1.]\n",
      " [ 0.  0.  1.]\n",
      " [ 0.  0.  0.]]\n",
      "[[ 0.  0.  1.]\n",
      " [ 0.  0.  1.]\n",
      " [ 0.  0.  0.]]\n",
      "[[ 0.  0.  1.]\n",
      " [ 0.  0.  1.]\n",
      " [ 0.  0.  0.]]\n",
      "[[ 0.  1.  0.]\n",
      " [ 1.  1.  0.]\n",
      " [ 0.  1.  0.]]\n",
      "[[ 1.  1.  1.]\n",
      " [ 0.  0.  0.]\n",
      " [ 0.  0.  0.]]\n",
      "[[ 1.  1.  0.]\n",
      " [ 1.  0.  0.]\n",
      " [ 0.  0.  0.]]\n",
      "[[ 0.  1.  0.]\n",
      " [ 0.  1.  1.]\n",
      " [ 0.  1.  0.]]\n",
      "[[ 1.  1.  0.]\n",
      " [ 1.  0.  0.]\n",
      " [ 0.  0.  0.]]\n",
      "%%%%%%%%%%\n",
      "step to result: \n",
      "[[0 1 0]\n",
      " [0 0 1]\n",
      " [0 0 1]]\n",
      "[[ 0.  1.  0.]\n",
      " [ 0.  0.  0.]\n",
      " [ 0.  1.  0.]]\n",
      "[[ 0.  1.  0.]\n",
      " [ 0.  0.  1.]\n",
      " [ 0.  0.  1.]]\n",
      "[[ 1.  0.  1.]\n",
      " [ 0.  0.  1.]\n",
      " [ 0.  0.  1.]]\n",
      "[[ 1.  0.  0.]\n",
      " [ 0.  0.  0.]\n",
      " [ 0.  0.  1.]]\n",
      "[[ 1.  0.  1.]\n",
      " [ 0.  0.  1.]\n",
      " [ 0.  0.  1.]]\n",
      "[[ 1.  0.  0.]\n",
      " [ 0.  0.  0.]\n",
      " [ 0.  0.  1.]]\n",
      "[[ 1.  1.  0.]\n",
      " [ 1.  1.  0.]\n",
      " [ 0.  1.  1.]]\n",
      "[[ 0.  0.  1.]\n",
      " [ 1.  1.  0.]\n",
      " [ 0.  1.  1.]]\n",
      "[[ 1.  1.  1.]\n",
      " [ 0.  1.  0.]\n",
      " [ 0.  1.  1.]]\n",
      "[[ 1.  0.  1.]\n",
      " [ 0.  0.  1.]\n",
      " [ 0.  0.  1.]]\n",
      "[[ 0.  1.  1.]\n",
      " [ 1.  0.  1.]\n",
      " [ 0.  0.  1.]]\n"
     ]
    }
   ],
   "source": [
    "summary(matrix,array)\n"
   ]
  },
  {
   "cell_type": "code",
   "execution_count": null,
   "metadata": {
    "collapsed": false
   },
   "outputs": [],
   "source": []
  },
  {
   "cell_type": "code",
   "execution_count": null,
   "metadata": {
    "collapsed": true
   },
   "outputs": [],
   "source": []
  },
  {
   "cell_type": "code",
   "execution_count": null,
   "metadata": {
    "collapsed": false
   },
   "outputs": [],
   "source": []
  },
  {
   "cell_type": "code",
   "execution_count": null,
   "metadata": {
    "collapsed": true
   },
   "outputs": [],
   "source": []
  },
  {
   "cell_type": "code",
   "execution_count": null,
   "metadata": {
    "collapsed": true
   },
   "outputs": [],
   "source": []
  }
 ],
 "metadata": {
  "kernelspec": {
   "display_name": "Python 2",
   "language": "python",
   "name": "python2"
  },
  "language_info": {
   "codemirror_mode": {
    "name": "ipython",
    "version": 2
   },
   "file_extension": ".py",
   "mimetype": "text/x-python",
   "name": "python",
   "nbconvert_exporter": "python",
   "pygments_lexer": "ipython2",
   "version": "2.7.12"
  }
 },
 "nbformat": 4,
 "nbformat_minor": 0
}
